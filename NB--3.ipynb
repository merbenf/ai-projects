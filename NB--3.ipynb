{
 "cells": [
  {
   "cell_type": "code",
   "execution_count": 2,
   "id": "0cd91657",
   "metadata": {},
   "outputs": [],
   "source": [
    "import pandas as pd\n",
    "from sklearn.model_selection import train_test_split\n",
    "from sklearn.feature_extraction.text import CountVectorizer, TfidfVectorizer\n",
    "from sklearn.naive_bayes import MultinomialNB, GaussianNB, BernoulliNB\n",
    "from sklearn.metrics import accuracy_score, confusion_matrix, classification_report"
   ]
  },
  {
   "cell_type": "code",
   "execution_count": 5,
   "id": "97a89d7a",
   "metadata": {},
   "outputs": [
    {
     "name": "stdout",
     "output_type": "stream",
     "text": [
      "Index(['Class', 'sms'], dtype='object')\n"
     ]
    }
   ],
   "source": [
    "\n",
    "# Charger les données\n",
    "data = pd.read_csv(\"E:/dataset/SMSCollection.csv\", sep=',')\n",
    "\n",
    "# Check column names\n",
    "print(data.columns)\n",
    "\n",
    "# Assuming 'sms' is the text column and 'Class' is the type column\n",
    "x = data[\"sms\"]  # Replace 'text' with 'sms' if that's the correct column name\n",
    "y = data[\"Class\"]  # Replace 'type' with 'Class' if that's the correct column name\n",
    "\n",
    "# Dividing the data into training and testing sets\n",
    "X_train, X_test, y_train, y_test = train_test_split(x, y, test_size=0.2, random_state=42)"
   ]
  },
  {
   "cell_type": "code",
   "execution_count": 6,
   "id": "6691b2da",
   "metadata": {},
   "outputs": [
    {
     "name": "stdout",
     "output_type": "stream",
     "text": [
      "savoir le nombre de valeurs manquantes\n"
     ]
    },
    {
     "data": {
      "text/plain": [
       "Class    0\n",
       "sms      0\n",
       "dtype: int64"
      ]
     },
     "execution_count": 6,
     "metadata": {},
     "output_type": "execute_result"
    }
   ],
   "source": [
    "#treatement de valeurs manquantes\n",
    "print('savoir le nombre de valeurs manquantes')\n",
    "data.isna().sum()"
   ]
  },
  {
   "cell_type": "code",
   "execution_count": 7,
   "id": "58023dd6",
   "metadata": {},
   "outputs": [],
   "source": [
    "# TF-IDF(gaussian)\n",
    "tfidf_vect = TfidfVectorizer()\n",
    "X_train_tfidf = tfidf_vect.fit_transform(X_train)\n",
    "X_test_tfidf= tfidf_vect.transform(X_test)"
   ]
  },
  {
   "cell_type": "code",
   "execution_count": 9,
   "id": "8585d3d9",
   "metadata": {},
   "outputs": [],
   "source": [
    "# Fréquence de mot(multinomial)\n",
    "count_vect = CountVectorizer()\n",
    "X_train_counts = count_vect.fit_transform(X_train)\n",
    "X_test_counts= count_vect.transform(X_test)\n"
   ]
  },
  {
   "cell_type": "code",
   "execution_count": 10,
   "id": "daf76791",
   "metadata": {},
   "outputs": [],
   "source": [
    "# Existence de mot(bernoulli)\n",
    "binary_vect = CountVectorizer(binary=True)\n",
    "X_train_binary = binary_vect.fit_transform(X_train)\n",
    "X_test_binary= binary_vect.transform(X_test)"
   ]
  },
  {
   "cell_type": "code",
   "execution_count": 11,
   "id": "afb68fc4",
   "metadata": {},
   "outputs": [
    {
     "name": "stdout",
     "output_type": "stream",
     "text": [
      "Accuracy MultinomialNB: 0.9668161434977578\n",
      "Confusion Matrix MultinomialNB:\n",
      " [[966   0]\n",
      " [ 37 112]]\n",
      "Classification Report MultinomialNB:\n",
      "               precision    recall  f1-score   support\n",
      "\n",
      "         ham       0.96      1.00      0.98       966\n",
      "        spam       1.00      0.75      0.86       149\n",
      "\n",
      "    accuracy                           0.97      1115\n",
      "   macro avg       0.98      0.88      0.92      1115\n",
      "weighted avg       0.97      0.97      0.96      1115\n",
      "\n"
     ]
    }
   ],
   "source": [
    "# Multinomial (tfidf)\n",
    "#train the model\n",
    "clf_mnb = MultinomialNB()\n",
    "clf_mnb.fit(X_train_tfidf, y_train)\n",
    "#predict output\n",
    "y_pred_mnb = clf_mnb.predict(X_test_tfidf)\n",
    "\n",
    "# Calcul des métriques\n",
    "acc_mnb = accuracy_score(y_test, y_pred_mnb)\n",
    "cm_mnb = confusion_matrix(y_test, y_pred_mnb)\n",
    "cr_mnb = classification_report(y_test, y_pred_mnb)\n",
    "# Affichage des résultats\n",
    "print(\"Accuracy MultinomialNB:\", acc_mnb)\n",
    "print(\"Confusion Matrix MultinomialNB:\\n\", cm_mnb)\n",
    "print(\"Classification Report MultinomialNB:\\n\", cr_mnb)"
   ]
  },
  {
   "cell_type": "code",
   "execution_count": 12,
   "id": "7feb2aff",
   "metadata": {},
   "outputs": [
    {
     "name": "stdout",
     "output_type": "stream",
     "text": [
      "Accuracy MultinomialNB: 0.9919282511210762\n",
      "Confusion Matrix MultinomialNB:\n",
      " [[966   0]\n",
      " [  9 140]]\n",
      "Classification Report MultinomialNB:\n",
      "               precision    recall  f1-score   support\n",
      "\n",
      "         ham       0.99      1.00      1.00       966\n",
      "        spam       1.00      0.94      0.97       149\n",
      "\n",
      "    accuracy                           0.99      1115\n",
      "   macro avg       1.00      0.97      0.98      1115\n",
      "weighted avg       0.99      0.99      0.99      1115\n",
      "\n"
     ]
    }
   ],
   "source": [
    "# Multinomial (frequence)\n",
    "#train the model\n",
    "clf_mnb = MultinomialNB()\n",
    "clf_mnb.fit(X_train_counts, y_train)\n",
    "#predict output\n",
    "y_pred_mnb = clf_mnb.predict(X_test_counts)\n",
    "\n",
    "# Calcul des métriques\n",
    "acc_mnb = accuracy_score(y_test, y_pred_mnb)\n",
    "cm_mnb = confusion_matrix(y_test, y_pred_mnb)\n",
    "cr_mnb = classification_report(y_test, y_pred_mnb)\n",
    "# Affichage des résultats\n",
    "print(\"Accuracy MultinomialNB:\", acc_mnb)\n",
    "print(\"Confusion Matrix MultinomialNB:\\n\", cm_mnb)\n",
    "print(\"Classification Report MultinomialNB:\\n\", cr_mnb)"
   ]
  },
  {
   "cell_type": "code",
   "execution_count": 13,
   "id": "b023a90e",
   "metadata": {},
   "outputs": [
    {
     "name": "stdout",
     "output_type": "stream",
     "text": [
      "Accuracy MultinomialNB: 0.9910313901345291\n",
      "Confusion Matrix MultinomialNB:\n",
      " [[966   0]\n",
      " [ 10 139]]\n",
      "Classification Report MultinomialNB:\n",
      "               precision    recall  f1-score   support\n",
      "\n",
      "         ham       0.99      1.00      0.99       966\n",
      "        spam       1.00      0.93      0.97       149\n",
      "\n",
      "    accuracy                           0.99      1115\n",
      "   macro avg       0.99      0.97      0.98      1115\n",
      "weighted avg       0.99      0.99      0.99      1115\n",
      "\n"
     ]
    }
   ],
   "source": [
    "# Multinomial (existance)\n",
    "#train the model\n",
    "clf_mnb = MultinomialNB()\n",
    "clf_mnb.fit(X_train_binary, y_train)\n",
    "#predict output\n",
    "y_pred_mnb = clf_mnb.predict(X_test_binary)\n",
    "\n",
    "# Calcul des métriques\n",
    "acc_mnb = accuracy_score(y_test, y_pred_mnb)\n",
    "cm_mnb = confusion_matrix(y_test, y_pred_mnb)\n",
    "cr_mnb = classification_report(y_test, y_pred_mnb)\n",
    "# Affichage des résultats\n",
    "print(\"Accuracy MultinomialNB:\", acc_mnb)\n",
    "print(\"Confusion Matrix MultinomialNB:\\n\", cm_mnb)\n",
    "print(\"Classification Report MultinomialNB:\\n\", cr_mnb)"
   ]
  },
  {
   "cell_type": "code",
   "execution_count": 14,
   "id": "dcc28193",
   "metadata": {},
   "outputs": [
    {
     "name": "stdout",
     "output_type": "stream",
     "text": [
      "Accuracy GaussianNB: 0.9049327354260089\n",
      "Confusion Matrix GaussianNB:\n",
      " [[874  92]\n",
      " [ 14 135]]\n",
      "Classification Report GaussianNB:\n",
      "               precision    recall  f1-score   support\n",
      "\n",
      "         ham       0.98      0.90      0.94       966\n",
      "        spam       0.59      0.91      0.72       149\n",
      "\n",
      "    accuracy                           0.90      1115\n",
      "   macro avg       0.79      0.91      0.83      1115\n",
      "weighted avg       0.93      0.90      0.91      1115\n",
      "\n"
     ]
    }
   ],
   "source": [
    "\n",
    "# Gaussian (tfidf)\n",
    "#train the model\n",
    "clf_gnb = GaussianNB()\n",
    "clf_gnb.fit(X_train_tfidf.toarray(), y_train)\n",
    "#predict output\n",
    "y_pred_gnb = clf_gnb.predict(X_test_tfidf.toarray())\n",
    "# Calcul des métriques\n",
    "acc_gnb = accuracy_score(y_test, y_pred_gnb)\n",
    "cm_gnb = confusion_matrix(y_test, y_pred_gnb)\n",
    "cr_gnb = classification_report(y_test, y_pred_gnb)\n",
    "# Affichage des résultats\n",
    "print(\"Accuracy GaussianNB:\", acc_gnb)\n",
    "print(\"Confusion Matrix GaussianNB:\\n\", cm_gnb)\n",
    "print(\"Classification Report GaussianNB:\\n\", cr_gnb)\n"
   ]
  },
  {
   "cell_type": "code",
   "execution_count": 15,
   "id": "c36efca5",
   "metadata": {},
   "outputs": [
    {
     "name": "stdout",
     "output_type": "stream",
     "text": [
      "Accuracy GaussianNB: 0.9067264573991032\n",
      "Confusion Matrix GaussianNB:\n",
      " [[873  93]\n",
      " [ 11 138]]\n",
      "Classification Report GaussianNB:\n",
      "               precision    recall  f1-score   support\n",
      "\n",
      "         ham       0.99      0.90      0.94       966\n",
      "        spam       0.60      0.93      0.73       149\n",
      "\n",
      "    accuracy                           0.91      1115\n",
      "   macro avg       0.79      0.91      0.84      1115\n",
      "weighted avg       0.94      0.91      0.91      1115\n",
      "\n"
     ]
    }
   ],
   "source": [
    "# Gaussian (frequence)\n",
    "#train the model\n",
    "clf_gnb = GaussianNB()\n",
    "clf_gnb.fit(X_train_counts.toarray(), y_train)\n",
    "#predict output\n",
    "y_pred_gnb = clf_gnb.predict(X_test_counts.toarray())\n",
    "# Calcul des métriques\n",
    "acc_gnb = accuracy_score(y_test, y_pred_gnb)\n",
    "cm_gnb = confusion_matrix(y_test, y_pred_gnb)\n",
    "cr_gnb = classification_report(y_test, y_pred_gnb)\n",
    "# Affichage des résultats\n",
    "print(\"Accuracy GaussianNB:\", acc_gnb)\n",
    "print(\"Confusion Matrix GaussianNB:\\n\", cm_gnb)\n",
    "print(\"Classification Report GaussianNB:\\n\", cr_gnb)"
   ]
  },
  {
   "cell_type": "code",
   "execution_count": 16,
   "id": "69dede5e",
   "metadata": {},
   "outputs": [
    {
     "name": "stdout",
     "output_type": "stream",
     "text": [
      "Accuracy GaussianNB: 0.9067264573991032\n",
      "Confusion Matrix GaussianNB:\n",
      " [[873  93]\n",
      " [ 11 138]]\n",
      "Classification Report GaussianNB:\n",
      "               precision    recall  f1-score   support\n",
      "\n",
      "         ham       0.99      0.90      0.94       966\n",
      "        spam       0.60      0.93      0.73       149\n",
      "\n",
      "    accuracy                           0.91      1115\n",
      "   macro avg       0.79      0.91      0.84      1115\n",
      "weighted avg       0.94      0.91      0.91      1115\n",
      "\n"
     ]
    }
   ],
   "source": [
    "# Gaussian (existance)\n",
    "#train the model\n",
    "clf_gnb = GaussianNB()\n",
    "clf_gnb.fit(X_train_binary.toarray(), y_train)\n",
    "#predict output\n",
    "y_pred_gnb = clf_gnb.predict(X_test_binary.toarray())\n",
    "# Calcul des métriques\n",
    "acc_gnb = accuracy_score(y_test, y_pred_gnb)\n",
    "cm_gnb = confusion_matrix(y_test, y_pred_gnb)\n",
    "cr_gnb = classification_report(y_test, y_pred_gnb)\n",
    "# Affichage des résultats\n",
    "print(\"Accuracy GaussianNB:\", acc_gnb)\n",
    "print(\"Confusion Matrix GaussianNB:\\n\", cm_gnb)\n",
    "print(\"Classification Report GaussianNB:\\n\", cr_gnb)"
   ]
  },
  {
   "cell_type": "code",
   "execution_count": 17,
   "id": "23e235f3",
   "metadata": {},
   "outputs": [
    {
     "name": "stdout",
     "output_type": "stream",
     "text": [
      "Accuracy BernoulliNB: 0.9820627802690582\n",
      "Confusion Matrix BernoulliNB:\n",
      " [[966   0]\n",
      " [ 20 129]]\n",
      "Classification Report BernoulliNB:\n",
      "               precision    recall  f1-score   support\n",
      "\n",
      "         ham       0.98      1.00      0.99       966\n",
      "        spam       1.00      0.87      0.93       149\n",
      "\n",
      "    accuracy                           0.98      1115\n",
      "   macro avg       0.99      0.93      0.96      1115\n",
      "weighted avg       0.98      0.98      0.98      1115\n",
      "\n"
     ]
    }
   ],
   "source": [
    "\n",
    "# Bernoulli (tfidf)\n",
    "#train the model\n",
    "clf_bnb = BernoulliNB()\n",
    "clf_bnb.fit(X_train_tfidf, y_train)\n",
    "#predict output\n",
    "y_pred_bnb = clf_bnb.predict(X_test_tfidf)\n",
    "\n",
    "# Calcul des métriques\n",
    "acc_bnb = accuracy_score(y_test, y_pred_bnb)\n",
    "cm_bnb = confusion_matrix(y_test, y_pred_bnb)\n",
    "cr_bnb = classification_report(y_test, y_pred_bnb)\n",
    "\n",
    "# Affichage des résultats\n",
    "print(\"Accuracy BernoulliNB:\", acc_bnb)\n",
    "print(\"Confusion Matrix BernoulliNB:\\n\", cm_bnb)\n",
    "print(\"Classification Report BernoulliNB:\\n\", cr_bnb)"
   ]
  },
  {
   "cell_type": "code",
   "execution_count": 18,
   "id": "311013df",
   "metadata": {},
   "outputs": [
    {
     "name": "stdout",
     "output_type": "stream",
     "text": [
      "Accuracy BernoulliNB: 0.9820627802690582\n",
      "Confusion Matrix BernoulliNB:\n",
      " [[966   0]\n",
      " [ 20 129]]\n",
      "Classification Report BernoulliNB:\n",
      "               precision    recall  f1-score   support\n",
      "\n",
      "         ham       0.98      1.00      0.99       966\n",
      "        spam       1.00      0.87      0.93       149\n",
      "\n",
      "    accuracy                           0.98      1115\n",
      "   macro avg       0.99      0.93      0.96      1115\n",
      "weighted avg       0.98      0.98      0.98      1115\n",
      "\n"
     ]
    }
   ],
   "source": [
    "\n",
    "# Bernoulli (frquence)\n",
    "#train the model\n",
    "clf_bnb = BernoulliNB()\n",
    "clf_bnb.fit(X_train_counts, y_train)\n",
    "#predict output\n",
    "y_pred_bnb = clf_bnb.predict(X_test_counts)\n",
    "\n",
    "# Calcul des métriques\n",
    "acc_bnb = accuracy_score(y_test, y_pred_bnb)\n",
    "cm_bnb = confusion_matrix(y_test, y_pred_bnb)\n",
    "cr_bnb = classification_report(y_test, y_pred_bnb)\n",
    "\n",
    "# Affichage des résultats\n",
    "print(\"Accuracy BernoulliNB:\", acc_bnb)\n",
    "print(\"Confusion Matrix BernoulliNB:\\n\", cm_bnb)\n",
    "print(\"Classification Report BernoulliNB:\\n\", cr_bnb)"
   ]
  },
  {
   "cell_type": "code",
   "execution_count": 19,
   "id": "a98194a6",
   "metadata": {},
   "outputs": [
    {
     "name": "stdout",
     "output_type": "stream",
     "text": [
      "Accuracy BernoulliNB: 0.9820627802690582\n",
      "Confusion Matrix BernoulliNB:\n",
      " [[966   0]\n",
      " [ 20 129]]\n",
      "Classification Report BernoulliNB:\n",
      "               precision    recall  f1-score   support\n",
      "\n",
      "         ham       0.98      1.00      0.99       966\n",
      "        spam       1.00      0.87      0.93       149\n",
      "\n",
      "    accuracy                           0.98      1115\n",
      "   macro avg       0.99      0.93      0.96      1115\n",
      "weighted avg       0.98      0.98      0.98      1115\n",
      "\n"
     ]
    }
   ],
   "source": [
    "\n",
    "# Bernoulli (existance)\n",
    "#train the model\n",
    "clf_bnb = BernoulliNB()\n",
    "clf_bnb.fit(X_train_binary, y_train)\n",
    "#predict output\n",
    "y_pred_bnb = clf_bnb.predict(X_test_binary)\n",
    "\n",
    "# Calcul des métriques\n",
    "acc_bnb = accuracy_score(y_test, y_pred_bnb)\n",
    "cm_bnb = confusion_matrix(y_test, y_pred_bnb)\n",
    "cr_bnb = classification_report(y_test, y_pred_bnb)\n",
    "\n",
    "# Affichage des résultats\n",
    "print(\"Accuracy BernoulliNB:\", acc_bnb)\n",
    "print(\"Confusion Matrix BernoulliNB:\\n\", cm_bnb)\n",
    "print(\"Classification Report BernoulliNB:\\n\", cr_bnb)"
   ]
  },
  {
   "cell_type": "code",
   "execution_count": null,
   "id": "2434a0c1",
   "metadata": {},
   "outputs": [],
   "source": []
  },
  {
   "cell_type": "code",
   "execution_count": null,
   "id": "199ef73f",
   "metadata": {},
   "outputs": [],
   "source": []
  }
 ],
 "metadata": {
  "kernelspec": {
   "display_name": "Python 3 (ipykernel)",
   "language": "python",
   "name": "python3"
  },
  "language_info": {
   "codemirror_mode": {
    "name": "ipython",
    "version": 3
   },
   "file_extension": ".py",
   "mimetype": "text/x-python",
   "name": "python",
   "nbconvert_exporter": "python",
   "pygments_lexer": "ipython3",
   "version": "3.11.5"
  }
 },
 "nbformat": 4,
 "nbformat_minor": 5
}
