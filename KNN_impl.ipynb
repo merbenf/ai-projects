{
 "cells": [
  {
   "cell_type": "code",
   "execution_count": 2,
   "id": "ed959b4d",
   "metadata": {},
   "outputs": [],
   "source": [
    "import pandas as pd\n",
    "import math\n",
    "#Calcule la distance euclidienne entre deux vecteurs x1 et x2.\n",
    "def euclidean_distance(x1, x2):\n",
    "\n",
    "    distance = 0\n",
    "    for i in range(len(x1)):\n",
    "        distance += (x1[i] - x2[i]) ** 2\n",
    "    return math.sqrt(distance)"
   ]
  },
  {
   "cell_type": "code",
   "execution_count": 3,
   "id": "352513c2",
   "metadata": {},
   "outputs": [],
   "source": [
    "#Calcule la distance manhattan entre deux vecteurs x1 et x2.\n",
    "def manhattan_distance(x1, x2):\n",
    "    distance = 0\n",
    "    for i in range(len(x1)):\n",
    "        distance += abs(x1[i] - x2[i])\n",
    "    return distance"
   ]
  },
  {
   "cell_type": "code",
   "execution_count": 4,
   "id": "8aa44a78",
   "metadata": {},
   "outputs": [],
   "source": [
    "\n",
    "\n",
    "#def get_neighbors(train_in, train_out, test_instance, k):\n",
    "#    distances = []\n",
    "#    for i in range(len(train_in)):\n",
    "#        dist = euclidean_distance(test_instance, train_in[i])\n",
    "#        distances.append((i, dist))\n",
    "#    distances.sort(key=lambda x: x[1])\n",
    "#    neighbors = []\n",
    "#    for i in range(k):\n",
    "#        neighbors.append((train_in[distances[i][0]], train_out[distances[i][0]]))\n",
    "#   return neighbors\n",
    "\n",
    "def get_neighbors(train_in, train_out, test_instance, k, distance_func):\n",
    "    distances = []\n",
    "    for i in range(len(train_in)):\n",
    "        dist = distance_func(test_instance, train_in[i])\n",
    "        distances.append((i, dist))\n",
    "    distances.sort(key=lambda x: x[1])\n",
    "    neighbors = []\n",
    "    for i in range(k):\n",
    "        neighbors.append((train_in[distances[i][0]], train_out[distances[i][0]]))\n",
    "    return neighbors"
   ]
  },
  {
   "cell_type": "code",
   "execution_count": 5,
   "id": "bc84e4ca",
   "metadata": {},
   "outputs": [],
   "source": [
    "#Prédit l'étiquette de classification en prenant en compte les étiquettes des voisins les plus proches.\n",
    "def predict_classification(neighbors):\n",
    "\n",
    "    class_counter = {}\n",
    "    for neighbor in neighbors:\n",
    "        label = neighbor[1]\n",
    "        if label in class_counter:\n",
    "            class_counter[label] += 1\n",
    "        else:\n",
    "            class_counter[label] = 1\n",
    "    sorted_class_counter = sorted(class_counter.items(), key=lambda x: x[1], reverse=True)\n",
    "    return sorted_class_counter[0][0]\n"
   ]
  },
  {
   "cell_type": "code",
   "execution_count": 6,
   "id": "9a40e10e",
   "metadata": {},
   "outputs": [
    {
     "name": "stdout",
     "output_type": "stream",
     "text": [
      "age           int64\n",
      "sex           int64\n",
      "cp            int64\n",
      "trtbps        int64\n",
      "chol          int64\n",
      "fbs           int64\n",
      "restecg       int64\n",
      "thalachh      int64\n",
      "exng          int64\n",
      "oldpeak     float64\n",
      "slp           int64\n",
      "caa           int64\n",
      "thall         int64\n",
      "output        int64\n",
      "dtype: object\n"
     ]
    }
   ],
   "source": [
    "\n",
    "# Lire les données à partir d'un fichier CSV\n",
    "data = pd.read_csv(\"D:\\dataset\\heart.csv\")\n",
    "print(data.dtypes)"
   ]
  },
  {
   "cell_type": "code",
   "execution_count": 7,
   "id": "709a3928",
   "metadata": {},
   "outputs": [],
   "source": [
    "# Séparer les données d'entraînement et les étiquettes de classification\n",
    "#from sklearn.model_selection import train_test_split\n",
    "#x= data[['User_ID','Description','Browser_Used','Device_Used']]\n",
    "#y=data[['Is_Response']]\n",
    "#import category_encoders as ce \n",
    "#encoder=ce.OrdinalEncoder(cols=['User_ID','Description','Browser_Used','Device_Used'])\n",
    "#train_in,train_out,y_train,test_instance=train_test_split(x,y,test_size=0.3,random_state = 42)\n",
    "#train_in = encoder.fit_transform(train_in)\n",
    "#train_out=encoder.transform(train_out)\n",
    "\n",
    "# from sklearn.preprocessing import LabelEncoder\n",
    "# from sklearn.neighbors import KNeighborsClassifier\n",
    "# label_encoder = LabelEncoder()\n",
    "# data['User_ID'] = label_encoder.fit_transform(data['User_ID'])\n",
    "# data['Description'] = label_encoder.fit_transform(data['Description'])\n",
    "# data['Browser_Used'] = label_encoder.fit_transform(data['Browser_Used'])\n",
    "# data['Device_Used'] = label_encoder.fit_transform(data['Device_Used'])\n",
    "# data['Is_Response'] = label_encoder.fit_transform(data['Is_Response'])\n",
    "# train_in= data[['User_ID','Description','Browser_Used','Device_Used']]\n",
    "# train_out= data['Is_Response']\n",
    "# tain_in,train_out,y_train,test_instance=train_test_split(x,y,test_size=0.3,random_state = 42)\n",
    "# from sklearn.preprocessing import LabelEncoder\n",
    "# cols = ['User_ID','Description','Browser_Used','Device_Used','Is_Response']\n",
    "# encoder = LabelEncoder()\n",
    "# for var in cols:\n",
    "#     data[var] = encoder.fit_transform(data[var])\n",
    "    \n",
    "train_in = data.drop(\"output\",axis=1).values.tolist()\n",
    "train_out = data[\"output\"].values.tolist()\n"
   ]
  },
  {
   "cell_type": "code",
   "execution_count": 8,
   "id": "c4642abf",
   "metadata": {},
   "outputs": [],
   "source": [
    "\n",
    "# instance de test\n",
    "test_instance = [1,148,72,35,0,34.6,0.624,10]\n"
   ]
  },
  {
   "cell_type": "code",
   "execution_count": 9,
   "id": "a57cc7a8",
   "metadata": {},
   "outputs": [
    {
     "name": "stdout",
     "output_type": "stream",
     "text": [
      "Choisissez la distance à utiliser (E pour Euclidienne, M pour Manhattan): M\n"
     ]
    }
   ],
   "source": [
    "# Demander à l'utilisateur de choisir la distance\n",
    "distance_choice = input(\"Choisissez la distance à utiliser (E pour Euclidienne, M pour Manhattan): \")\n",
    "if distance_choice == \"E\":\n",
    "    distance_func = euclidean_distance\n",
    "elif distance_choice == \"M\":\n",
    "    distance_func = manhattan_distance\n",
    "else:\n",
    "    print(\"Choix de distance invalide.\")\n",
    "    exit()"
   ]
  },
  {
   "cell_type": "code",
   "execution_count": 10,
   "id": "2f24e58f",
   "metadata": {},
   "outputs": [
    {
     "name": "stdout",
     "output_type": "stream",
     "text": [
      "entrer k: 5\n",
      "Les 5 voisins les plus proches de [1, 148, 72, 35, 0, 34.6, 0.624, 10] sont:\n",
      "([40.0, 1.0, 0.0, 110.0, 167.0, 0.0, 0.0, 114.0, 1.0, 2.0, 1.0, 0.0, 3.0], 0)\n",
      "([57.0, 1.0, 0.0, 130.0, 131.0, 0.0, 1.0, 115.0, 1.0, 1.2, 1.0, 1.0, 3.0], 0)\n",
      "([49.0, 1.0, 2.0, 118.0, 149.0, 0.0, 0.0, 126.0, 0.0, 0.8, 2.0, 3.0, 2.0], 0)\n",
      "([60.0, 0.0, 2.0, 120.0, 178.0, 1.0, 1.0, 96.0, 0.0, 0.0, 2.0, 0.0, 2.0], 1)\n",
      "([45.0, 0.0, 1.0, 112.0, 160.0, 0.0, 1.0, 138.0, 0.0, 0.0, 1.0, 0.0, 2.0], 1)\n"
     ]
    }
   ],
   "source": [
    "\n",
    "# Trouver les voisins les plus proches\n",
    "k =int(input(\"entrer k: \"))\n",
    "neighbors = get_neighbors(train_in, train_out, test_instance, k,distance_func)\n",
    "print(\"Les\", k, \"voisins les plus proches de\", test_instance, \"sont:\")\n",
    "for neighbor in neighbors:\n",
    "    print(neighbor)"
   ]
  },
  {
   "cell_type": "code",
   "execution_count": 11,
   "id": "7b00ad8b",
   "metadata": {},
   "outputs": [
    {
     "name": "stdout",
     "output_type": "stream",
     "text": [
      "Pour la nouvelle instance [1, 148, 72, 35, 0, 34.6, 0.624, 10], l'étiquette de classification est 0.\n"
     ]
    }
   ],
   "source": [
    "# Prédire l'étiquette de classification\n",
    "classification = predict_classification(neighbors)\n",
    "\n",
    "print(f\"Pour la nouvelle instance {test_instance}, l'étiquette de classification est {classification}.\")"
   ]
  },
  {
   "cell_type": "code",
   "execution_count": null,
   "id": "fc5f8893",
   "metadata": {},
   "outputs": [],
   "source": []
  }
 ],
 "metadata": {
  "kernelspec": {
   "display_name": "Python 3 (ipykernel)",
   "language": "python",
   "name": "python3"
  },
  "language_info": {
   "codemirror_mode": {
    "name": "ipython",
    "version": 3
   },
   "file_extension": ".py",
   "mimetype": "text/x-python",
   "name": "python",
   "nbconvert_exporter": "python",
   "pygments_lexer": "ipython3",
   "version": "3.9.12"
  }
 },
 "nbformat": 4,
 "nbformat_minor": 5
}
